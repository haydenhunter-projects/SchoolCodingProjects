{
 "cells": [
  {
   "cell_type": "markdown",
   "id": "0b66af2a",
   "metadata": {},
   "source": [
    "# Project 4 - 100 points"
   ]
  },
  {
   "cell_type": "markdown",
   "id": "048744bf",
   "metadata": {},
   "source": [
    "### 1) Student Database Management.  30 points\n",
    "\n",
    "**Project Description:**\n",
    "Create a Python class that allows you to interact with a PostgreSQL database for managing student records. The class should provide the following functionality:\n",
    "\n",
    "\n",
    "1. **Create a new database in PostgreSQL.** Call the database studentdata. Create a student table with columns studentname, studentid, age, gpa, major. The data for this table is provided. Please look at the data and the column types can be determined from the data.\n",
    "\n",
    "2. **Upload data.** Upload the data (studentdata.csv) to the student table. This was demonstrated in the PostrgreSQL lecture.\n",
    "\n",
    "3. **Connect to the Database:** This class method should establish a connection to the PostgreSQL database. The parameters of the method should be the database credentials and server information required to connect to the DB.\n",
    "\n",
    "4. **Add a New Student Record:** This class method should insert a new row into the student table. The method should be called with the parameters required to add a new row of data. \n",
    "\n",
    "5. **View All Student Records:** This class method should retrieve all student records from the database table and display them to the console/output window.\n",
    "\n",
    "6. **Calculate average GPA:** This class method should calculate the average gpa of all students in the student table. Print the gpa to the console/output window. \n",
    "\n",
    "\n",
    "Please make sure each method has exception handling blocks. "
   ]
  },
  {
   "cell_type": "code",
   "execution_count": 83,
   "id": "123a5d8d",
   "metadata": {},
   "outputs": [],
   "source": [
    "import psycopg2 as pg\n",
    "\n",
    "class DBConnect():\n",
    "    \n",
    "    def __init__(self, hostname, port, dbname, username, password):\n",
    "        self.host = hostname\n",
    "        self.port = port\n",
    "        self.database = dbname\n",
    "        self.user = username\n",
    "        self.password = password\n",
    "        self.connection = None\n",
    "        \n",
    "    def connecttodb(self):\n",
    "        try:\n",
    "            #Add parameters to the connect method\n",
    "            self.connection = pg.connect(\n",
    "                host=self.host,\n",
    "                port=self.port,\n",
    "                databse=self.database,\n",
    "                user=self.user,\n",
    "                password=self.password)\n",
    "            print(\"DB connection successful\")\n",
    "        except:\n",
    "            print(\"DB connection unsuccessful\")\n",
    "            self.connection = None\n",
    "            \n",
    "    def connectionclose(self):\n",
    "        try:\n",
    "            if self.connection:\n",
    "                self.connection.close()\n",
    "        except:\n",
    "            pass\n",
    "        \n",
    "    def adddata(self):\n",
    "        pass\n",
    "    \n",
    "    def displaydata(self):\n",
    "        pass\n",
    "    \n",
    "    def average(self):\n",
    "        pass\n",
    "            "
   ]
  },
  {
   "cell_type": "code",
   "execution_count": 84,
   "id": "33245d06",
   "metadata": {},
   "outputs": [
    {
     "name": "stdout",
     "output_type": "stream",
     "text": [
      "DB connection unsuccessful\n"
     ]
    }
   ],
   "source": [
    "dbobj = DBConnect(\"localhost\", \"5432\", \"studentdata\", \"bus443\", \"bus443\")\n",
    "\n",
    "dbobj.connecttodb()\n"
   ]
  },
  {
   "cell_type": "markdown",
   "id": "640c9657",
   "metadata": {},
   "source": [
    "### 2) Bank transaction class  20 points"
   ]
  },
  {
   "cell_type": "code",
   "execution_count": 85,
   "id": "08503b8e",
   "metadata": {},
   "outputs": [],
   "source": [
    "# Write a Python class that stores bank details of customers.                                                       \n",
    "# Your class should have an __init__ method that initializes a customer’s\n",
    "# firstname, lastname, age and starting balance. To this class, add class methods that\n",
    "# i) Update the balance of a customer for cash deposit transaction\n",
    "# ii) Update the balance of a customer for a cash withdrawal transaction. \n",
    "# Make sure the balance does not go below 0.\n",
    "# We will test your code by creating objects. An object creation would be something like this\n",
    "\n",
    "# andy = BankDetails(\"Andy\", \"Roberts\", 35, 30000)\n",
    "\n",
    "# where BankDetails is the name of the class.\n",
    "# The update methods will be called via the object and will accept\n",
    "# monetary amount that will increase or decrease the balance. Calling\n",
    "# these methods would be something like this.\n",
    "\n",
    "# andy.cashDeposit(12000)\n",
    "# andy.cashWithdrawal(5000)\n",
    "\n",
    "# During withdrawal, if the balance will end up being less than 0, then\n",
    "# the transaction must not be successful and an error message\n",
    "# should be displayed. (Simple print statement).\n",
    "\n",
    "class BankDetails():\n",
    "    \n",
    "    def __init__(self, first, last, age, starting):\n",
    "        self.first_name = first\n",
    "        self.last_name = last\n",
    "        self.age = age\n",
    "        self.starting_balance = starting\n",
    "        \n",
    "    \n",
    "    def cashDeposit(self, amount):\n",
    "        pass\n",
    "    \n",
    "    def cashWithdrawal(self, amount):\n",
    "        pass"
   ]
  },
  {
   "cell_type": "markdown",
   "id": "8702c7c3",
   "metadata": {},
   "source": [
    "### 3) Debug the below block of code 10 points"
   ]
  },
  {
   "cell_type": "code",
   "execution_count": 86,
   "id": "5066fd04",
   "metadata": {},
   "outputs": [
    {
     "ename": "AttributeError",
     "evalue": "'list' object has no attribute 'delete'",
     "output_type": "error",
     "traceback": [
      "\u001b[31m---------------------------------------------------------------------------\u001b[39m",
      "\u001b[31mAttributeError\u001b[39m                            Traceback (most recent call last)",
      "\u001b[36mCell\u001b[39m\u001b[36m \u001b[39m\u001b[32mIn[86]\u001b[39m\u001b[32m, line 12\u001b[39m\n\u001b[32m     10\u001b[39m \u001b[38;5;28;01mfor\u001b[39;00m subitem \u001b[38;5;129;01min\u001b[39;00m item:\n\u001b[32m     11\u001b[39m     \u001b[38;5;28;01mif\u001b[39;00m(subitem \u001b[38;5;129;01min\u001b[39;00m templst):\n\u001b[32m---> \u001b[39m\u001b[32m12\u001b[39m         \u001b[43mitem\u001b[49m\u001b[43m.\u001b[49m\u001b[43mdelete\u001b[49m(subitem)\n\u001b[32m     13\u001b[39m     \u001b[38;5;28;01melse\u001b[39;00m:\n\u001b[32m     14\u001b[39m         templst.append(subitem)\n",
      "\u001b[31mAttributeError\u001b[39m: 'list' object has no attribute 'delete'"
     ]
    }
   ],
   "source": [
    "# Retain the first occurrence of a list item and delete duplicates from nested list. Output should be\n",
    "#  [['banana', 'peach', 'pear'], ['apple'], ['mango'],['orange','grape']]                                             \n",
    "# Correct syntax errors and any incorrect methods used. Modify the exising \n",
    "# code by adding statements or by making modifications to existing statements.\n",
    "\n",
    "lst = [['banana', 'peach', 'pear'], ['banana','apple'], ['mango','pear'],['orange','grape','peach']]\n",
    "templst=[]\n",
    "\n",
    "for item in lst:\n",
    "    for subitem in item:\n",
    "        if(subitem in templst):\n",
    "            item.delete(subitem)\n",
    "        else:\n",
    "            templst.append(subitem)\n",
    "\n",
    "print(lst)"
   ]
  },
  {
   "cell_type": "markdown",
   "id": "fd73708c",
   "metadata": {},
   "source": [
    "### 4) Debug the below block of code 20 points"
   ]
  },
  {
   "cell_type": "code",
   "execution_count": null,
   "id": "8ee54eee",
   "metadata": {},
   "outputs": [],
   "source": [
    "# Iterate over this data structure and count the number of students who have a score > 90 but the grade is not 'A'\n",
    "# Output of this block should be (below statement)\n",
    "# Number of students with incorrect grade: 2\n",
    "# Modify the exising code by adding statements or by making modifications to existing statements.\n",
    "\n",
    "lst = [[{'name':'andy', 'score':92, 'grade':'A'}, {'name':'steve', 'score':88, 'grade':'B'}], \n",
    " [{'name':'andy', 'score':78, 'grade':'B'}, {'name':'steve', 'score':96, 'grade':'B'}], \n",
    " [{'name':'andy', 'score':82, 'grade':'B'}, {'name':'steve', 'score':95, 'grade':'B'}]]\n",
    "\n",
    "count = 0\n",
    "\n",
    "for i in lst:\n",
    "    for k,v in i.items():\n",
    "        if k == 'score':\n",
    "            studentscore = v\n",
    "        if k == 'grade':\n",
    "            studentgrade = v\n",
    "        if studentscore > 90 and studentgrade != 'A':\n",
    "            count = count + 1\n",
    "\n",
    "print('Number of students with incorrect grade: {}'.format(count))"
   ]
  },
  {
   "cell_type": "markdown",
   "id": "09d871e2",
   "metadata": {},
   "source": [
    "### 5) Dictionary iteration 20 points"
   ]
  },
  {
   "cell_type": "code",
   "execution_count": null,
   "id": "79c6d4c6",
   "metadata": {},
   "outputs": [],
   "source": [
    "# Write a python function that accepts the below dictionary as a positional argument. Iterate through this \n",
    "# dictionary and create a list. The list should contain, all the names of the books whose type = ‘paperback’ and in the \n",
    "# last index, append the sum of prices of all paperback books. Return the list.\n",
    "# Output = ['Da Vinci Code', 'The Client', 'Curtain', 43.22]\n",
    "\n",
    "book = {'Rowling':{'name':'Harry Potter', 'type':'ebook', 'price':16.87},\n",
    " 'Brown':{'name':'Da Vinci Code', 'type':'Paperback',\n",
    "'price':17.35},\n",
    " 'Grisham':{'name':'The Client', 'type':'Paperback', 'price':12.39},\n",
    " 'Child':{'name':'Jack Reacher', 'type':'Hardcover', 'price':18.19},\n",
    " 'Christie':{'name':'Curtain', 'type':'Paperback', 'price':13.48}\n",
    " }\n",
    "\n",
    "def iterbook(book):\n",
    "    pass\n"
   ]
  }
 ],
 "metadata": {
  "kernelspec": {
   "display_name": "Python 3",
   "language": "python",
   "name": "python3"
  },
  "language_info": {
   "codemirror_mode": {
    "name": "ipython",
    "version": 3
   },
   "file_extension": ".py",
   "mimetype": "text/x-python",
   "name": "python",
   "nbconvert_exporter": "python",
   "pygments_lexer": "ipython3",
   "version": "3.13.3"
  }
 },
 "nbformat": 4,
 "nbformat_minor": 5
}
