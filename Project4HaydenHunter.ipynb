{
 "cells": [
  {
   "cell_type": "markdown",
   "id": "0b66af2a",
   "metadata": {},
   "source": [
    "# Project 4 - 100 points"
   ]
  },
  {
   "cell_type": "markdown",
   "id": "048744bf",
   "metadata": {},
   "source": [
    "### 1) Student Database Management.  30 points\n",
    "\n",
    "**Project Description:**\n",
    "Create a Python class that allows you to interact with a PostgreSQL database for managing student records. The class should provide the following functionality:\n",
    "\n",
    "\n",
    "1. **Create a new database in PostgreSQL.** Call the database studentdata. Create a student table with columns studentname, studentid, age, gpa, major. The data for this table is provided. Please look at the data and the column types can be determined from the data.\n",
    "\n",
    "2. **Upload data.** Upload the data (studentdata.csv) to the student table. This was demonstrated in the PostrgreSQL lecture.\n",
    "\n",
    "3. **Connect to the Database:** This class method should establish a connection to the PostgreSQL database. The parameters of the method should be the database credentials and server information required to connect to the DB.\n",
    "\n",
    "4. **Add a New Student Record:** This class method should insert a new row into the student table. The method should be called with the parameters required to add a new row of data. \n",
    "\n",
    "5. **View All Student Records:** This class method should retrieve all student records from the database table and display them to the console/output window.\n",
    "\n",
    "6. **Calculate average GPA:** This class method should calculate the average gpa of all students in the student table. Print the gpa to the console/output window. \n",
    "\n",
    "\n",
    "Please make sure each method has exception handling blocks. "
   ]
  },
  {
   "cell_type": "code",
   "execution_count": 1,
   "id": "123a5d8d",
   "metadata": {},
   "outputs": [],
   "source": [
    "import psycopg2 as pg\n",
    "\n",
    "class DBConnect():\n",
    "    \n",
    "    def __init__(self, hostname, port, dbname, username, password):\n",
    "        self.host = hostname\n",
    "        self.port = port\n",
    "        self.database = dbname\n",
    "        self.user = username\n",
    "        self.password = password\n",
    "        self.connection = None\n",
    "        \n",
    "    def connecttodb(self):\n",
    "        try:\n",
    "            #Add parameters to the connect method\n",
    "            self.connection = pg.connect(\n",
    "                host=self.host,\n",
    "                port=self.port,\n",
    "                database=self.database,\n",
    "                user=self.user,\n",
    "                password=self.password)\n",
    "            print(\"DB connection successful\")\n",
    "            self.cursor = self.connection.cursor()\n",
    "        except:\n",
    "            print(\"DB connection unsuccessful\")\n",
    "            self.connection = None\n",
    "            \n",
    "    def connectionclose(self):\n",
    "        try:\n",
    "            if self.connection:\n",
    "                self.connection.close()\n",
    "        except:\n",
    "            pass\n",
    "        \n",
    "    def adddata(self, studentname, studentid, age, gpa, major):\n",
    "        try:\n",
    "            self.cursor.execute(\"insert into student values (%s,%s,%s,%s,%s)\",[studentname, studentid, age, gpa, major])\n",
    "            self.connection.commit()\n",
    "        except Exception as e:\n",
    "            print(\"Could not insert row into database:\")\n",
    "            print(f\"{e}\")\n",
    "            \n",
    "\n",
    "    def displaydata(self):\n",
    "        try:\n",
    "            self.cursor.execute(\"select * from student\")\n",
    "            rows = self.cursor.fetchall()\n",
    "\n",
    "            for row in rows:\n",
    "                print(row)\n",
    "\n",
    "        except Exception as e:\n",
    "            print(\"Could not retrieve data from database:\")\n",
    "            print(f\"{e}\")\n",
    "            \n",
    "       \n",
    "    def average(self):\n",
    "        try:\n",
    "            self.cursor.execute(\"select AVG(gpa) from student\")\n",
    "            average = self.cursor.fetchone()\n",
    "\n",
    "            return print(f\"Average GPA: {round(average[0], 2)}\")\n",
    "        \n",
    "        except Exception as e:\n",
    "            print(\"Could not calculate gpa average:\")\n",
    "            print(f\"{e}\")\n",
    "            \n",
    "        \n",
    "            "
   ]
  },
  {
   "cell_type": "code",
   "execution_count": 2,
   "id": "98e6ae2d",
   "metadata": {},
   "outputs": [
    {
     "name": "stdout",
     "output_type": "stream",
     "text": [
      "DB connection successful\n",
      "\n",
      "\n",
      "('Andy', 1001, 22, 3.5, 'I.T')\n",
      "('Beth', 1002, 19, 3.8, 'Econ')\n",
      "('Bruno', 1003, 21, 3.5, 'Math')\n",
      "('Brenda', 1004, 22, 3.9, 'Marketing')\n",
      "('Allan', 1005, 21, 3.7, 'I.T')\n",
      "('Fred', 1006, 20, 3.6, 'Econ')\n",
      "('Genna', 1007, 19, 4.0, 'Math')\n",
      "('Eric', 1008, 20, 3.7, 'Arts')\n",
      "('Wade', 1009, 21, 3.5, 'Arts')\n",
      "('Ryan', 1010, 21, 3.8, 'I.T')\n",
      "('teststudent', 1011, 21, 4.0, 'I.T')\n",
      "\n",
      "\n",
      "Average GPA: 3.73\n"
     ]
    }
   ],
   "source": [
    "dbobj = DBConnect(\"localhost\", \"5432\", \"studentdata\", \"bus443\", \"bus443\")\n",
    "dbobj.connecttodb()\n",
    "\n",
    "dbobj.adddata(\"teststudent\", 1011, 21, 4, \"I.T\")\n",
    "print(\"\\n\")\n",
    "dbobj.displaydata()\n",
    "print(\"\\n\")\n",
    "dbobj.average()"
   ]
  },
  {
   "cell_type": "markdown",
   "id": "640c9657",
   "metadata": {},
   "source": [
    "### 2) Bank transaction class  20 points"
   ]
  },
  {
   "cell_type": "code",
   "execution_count": 3,
   "id": "08503b8e",
   "metadata": {},
   "outputs": [],
   "source": [
    "# Write a Python class that stores bank details of customers.                                                       \n",
    "# Your class should have an __init__ method that initializes a customer’s\n",
    "# firstname, lastname, age and starting balance. To this class, add class methods that\n",
    "# i) Update the balance of a customer for cash deposit transaction\n",
    "# ii) Update the balance of a customer for a cash withdrawal transaction. \n",
    "# Make sure the balance does not go below 0.\n",
    "# We will test your code by creating objects. An object creation would be something like this\n",
    "\n",
    "# andy = BankDetails(\"Andy\", \"Roberts\", 35, 30000)\n",
    "\n",
    "# where BankDetails is the name of the class.\n",
    "# The update methods will be called via the object and will accept\n",
    "# monetary amount that will increase or decrease the balance. Calling\n",
    "# these methods would be something like this.\n",
    "\n",
    "# andy.cashDeposit(12000)\n",
    "# andy.cashWithdrawal(5000)\n",
    "\n",
    "# During withdrawal, if the balance will end up being less than 0, then\n",
    "# the transaction must not be successful and an error message\n",
    "# should be displayed. (Simple print statement).\n",
    "\n",
    "class BankDetails():\n",
    "    \n",
    "    def __init__(self, first, last, age, starting):\n",
    "        self.first_name = first\n",
    "        self.last_name = last\n",
    "        self.age = age\n",
    "        self.starting_balance = starting\n",
    "        \n",
    "    \n",
    "    def cashDeposit(self, amount):\n",
    "        try:\n",
    "            self.starting_balance = self.starting_balance + amount\n",
    "            print(f\"Current Balance is: {self.starting_balance}\")\n",
    "        except Exception as e:\n",
    "            print(\"Could not add balance:\")\n",
    "            print(f\"{e}\")\n",
    "\n",
    "    def cashWithdrawal(self, amount):\n",
    "        try:\n",
    "            if self.starting_balance < amount :\n",
    "                raise Exception\n",
    "            \n",
    "            self.starting_balance = self.starting_balance - amount\n",
    "            print(f\"Current Balance is: {self.starting_balance}\")\n",
    "\n",
    "        except Exception as e:\n",
    "            print(\"Cannot withdraw more than the current balance:\")\n",
    "            print(f\"{e}\")"
   ]
  },
  {
   "cell_type": "code",
   "execution_count": 4,
   "id": "4001bf42",
   "metadata": {},
   "outputs": [
    {
     "name": "stdout",
     "output_type": "stream",
     "text": [
      "Current Balance is: 42000\n",
      "Current Balance is: 37000\n",
      "Cannot withdraw more than the current balance:\n",
      "\n",
      "Current Balance is: 0\n"
     ]
    }
   ],
   "source": [
    "\n",
    "andy = BankDetails(\"Andy\", \"Roberts\", 35, 30000)\n",
    "\n",
    "andy.cashDeposit(12000)\n",
    "andy.cashWithdrawal(5000)\n",
    "\n",
    "# Try to throw exception\n",
    "andy.cashWithdrawal(40000)\n",
    "\n",
    "# Try to with proper withdrawal\n",
    "andy.cashWithdrawal(37000)\n"
   ]
  },
  {
   "cell_type": "markdown",
   "id": "8702c7c3",
   "metadata": {},
   "source": [
    "### 3) Debug the below block of code 10 points"
   ]
  },
  {
   "cell_type": "code",
   "execution_count": 5,
   "id": "5066fd04",
   "metadata": {},
   "outputs": [
    {
     "name": "stdout",
     "output_type": "stream",
     "text": [
      "[['banana', 'peach', 'pear'], ['apple'], ['mango'], ['orange', 'grape']]\n"
     ]
    }
   ],
   "source": [
    "# Retain the first occurrence of a list item and delete duplicates from nested list. Output should be\n",
    "#  [['banana', 'peach', 'pear'], ['apple'], ['mango'],['orange','grape']]                                             \n",
    "# Correct syntax errors and any incorrect methods used. Modify the exising \n",
    "# code by adding statements or by making modifications to existing statements.\n",
    "\n",
    "lst = [['banana', 'peach', 'pear'], ['banana','apple'], ['mango','pear'],['orange','grape','peach']]\n",
    "templst=[]\n",
    "\n",
    "for item in lst:\n",
    "    for subitem in item:\n",
    "        if(subitem in templst):\n",
    "            # changed item.delete to item.remove\n",
    "            item.remove(subitem)\n",
    "        else:\n",
    "            templst.append(subitem)\n",
    "\n",
    "print(lst)"
   ]
  },
  {
   "cell_type": "markdown",
   "id": "fd73708c",
   "metadata": {},
   "source": [
    "### 4) Debug the below block of code 20 points"
   ]
  },
  {
   "cell_type": "code",
   "execution_count": 6,
   "id": "8ee54eee",
   "metadata": {},
   "outputs": [
    {
     "name": "stdout",
     "output_type": "stream",
     "text": [
      "Number of students with incorrect grade: 2\n"
     ]
    }
   ],
   "source": [
    "# Iterate over this data structure and count the number of students who have a score > 90 but the grade is not 'A'\n",
    "# Output of this block should be (below statement)\n",
    "# Number of students with incorrect grade: 2\n",
    "# Modify the exising code by adding statements or by making modifications to existing statements.\n",
    "\n",
    "lst = [[{'name':'andy', 'score':92, 'grade':'A'}, {'name':'steve', 'score':88, 'grade':'B'}], \n",
    " [{'name':'andy', 'score':78, 'grade':'B'}, {'name':'steve', 'score':96, 'grade':'B'}], \n",
    " [{'name':'andy', 'score':82, 'grade':'B'}, {'name':'steve', 'score':95, 'grade':'B'}]]\n",
    "\n",
    "count = 0\n",
    "# first thing to notice is that lst is a list of 3 dictionaries\n",
    "# so we can just iterate through the lists and use a dictionary lookup\n",
    "for sublist in lst: #changed i to sublist for clarity\n",
    "    for student in sublist: # changed k,v to student each student is a dictionary\n",
    "        if student[\"score\"] > 90 and student [\"grade\"] != \"A\": # changed the complicated if statements to more clear dictionary lookup\n",
    "            count += 1 \n",
    "         \n",
    "print('Number of students with incorrect grade: {}'.format(count))"
   ]
  },
  {
   "cell_type": "markdown",
   "id": "09d871e2",
   "metadata": {},
   "source": [
    "### 5) Dictionary iteration 20 points"
   ]
  },
  {
   "cell_type": "code",
   "execution_count": 7,
   "id": "79c6d4c6",
   "metadata": {},
   "outputs": [
    {
     "data": {
      "text/plain": [
       "['Da Vinci Code', 'The Client', 'Curtain', 43.22]"
      ]
     },
     "execution_count": 7,
     "metadata": {},
     "output_type": "execute_result"
    }
   ],
   "source": [
    "# Write a python function that accepts the below dictionary as a positional argument. Iterate through this \n",
    "# dictionary and create a list. The list should contain, all the names of the books whose type = ‘paperback’ and in the \n",
    "# last index, append the sum of prices of all paperback books. Return the list.\n",
    "# Output = ['Da Vinci Code', 'The Client', 'Curtain', 43.22]\n",
    "\n",
    "book = {'Rowling':{'name':'Harry Potter', 'type':'ebook', 'price':16.87},\n",
    " 'Brown':{'name':'Da Vinci Code', 'type':'Paperback',\n",
    "'price':17.35},\n",
    " 'Grisham':{'name':'The Client', 'type':'Paperback', 'price':12.39},\n",
    " 'Child':{'name':'Jack Reacher', 'type':'Hardcover', 'price':18.19},\n",
    " 'Christie':{'name':'Curtain', 'type':'Paperback', 'price':13.48}\n",
    " }\n",
    "\n",
    "# book itself is a dictionary with authors \n",
    "# each author has a dictionary with their respective book info\n",
    "# book info isnt uniformally formatted some lowercase some uppercase\n",
    "# price is in floats so will round output\n",
    "# the answer has three books totaling 43.22\n",
    "\n",
    "def iterbook(book):\n",
    "    \n",
    "    # create a list object\n",
    "    book_list = []\n",
    "    # init sum for paperback\n",
    "    sum_paperback = 0\n",
    "\n",
    "    # iterate through first dictionary\n",
    "    for author in book:\n",
    "        book_info = book[author]\n",
    "        # search through inner dictionary for paperback\n",
    "        if book_info[\"type\"].lower() == \"paperback\":\n",
    "            book_list.append(book_info[\"name\"])\n",
    "            sum_paperback += book_info[\"price\"]\n",
    "\n",
    "    # add the total of the three books to the end of the list\n",
    "    book_list.append(round(sum_paperback, 2))\n",
    "    return book_list\n",
    "\n",
    "# call for output\n",
    "iterbook(book)\n"
   ]
  }
 ],
 "metadata": {
  "kernelspec": {
   "display_name": "Python 3",
   "language": "python",
   "name": "python3"
  },
  "language_info": {
   "codemirror_mode": {
    "name": "ipython",
    "version": 3
   },
   "file_extension": ".py",
   "mimetype": "text/x-python",
   "name": "python",
   "nbconvert_exporter": "python",
   "pygments_lexer": "ipython3",
   "version": "3.13.3"
  }
 },
 "nbformat": 4,
 "nbformat_minor": 5
}
