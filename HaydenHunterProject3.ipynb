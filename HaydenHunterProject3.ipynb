{
 "cells": [
  {
   "cell_type": "markdown",
   "metadata": {},
   "source": [
    "## Project 3 - 100 points\n",
    "\n",
    "Please complete this Python notebook and upload it to the Project 3 Moodle assignment space.\n",
    "This project is meant to familiarize you with basic data structures and data manipulation in Python.\n"
   ]
  },
  {
   "cell_type": "code",
   "execution_count": 6,
   "metadata": {},
   "outputs": [
    {
     "name": "stdout",
     "output_type": "stream",
     "text": [
      "srwer\n"
     ]
    }
   ],
   "source": [
    "# 1 Extracting substrings. Write a SINGLE python statement to slice the below string and extract 'srwer' from it \n",
    "# When executed, this block should produce the output 'srwer'                                                     - 2 points\n",
    "\n",
    "strobj = 'strawberry'\n",
    "print(strobj[0::2])"
   ]
  },
  {
   "cell_type": "code",
   "execution_count": 8,
   "metadata": {},
   "outputs": [
    {
     "name": "stdout",
     "output_type": "stream",
     "text": [
      "a\n",
      "e\n"
     ]
    }
   ],
   "source": [
    "# 2 Write a for loop to iterate through the string and to print all vowels within it  \n",
    "# When executed, this block should output all vowels in the string                                                - 3 points\n",
    "\n",
    "strobj = 'strawberry'\n",
    "for char in strobj:\n",
    "    if char in \"aeiou\":\n",
    "        print(char)"
   ]
  },
  {
   "cell_type": "code",
   "execution_count": 10,
   "metadata": {},
   "outputs": [
    {
     "name": "stdout",
     "output_type": "stream",
     "text": [
      "String1String1String2String2\n"
     ]
    }
   ],
   "source": [
    "# 3 Write python statement/statements to duplicate both strings and to join them to produce String1String1String2String2\n",
    "# When executed, this block should produce the output 'String1String1String2String2'                              - 3 points\n",
    "\n",
    "str1 = 'String1'\n",
    "str2 = 'String2'\n",
    "print(str1 + str1 + str2 + str2)"
   ]
  },
  {
   "cell_type": "code",
   "execution_count": 12,
   "metadata": {},
   "outputs": [
    {
     "name": "stdout",
     "output_type": "stream",
     "text": [
      "CONVERTCASE\n",
      "convertcase\n"
     ]
    }
   ],
   "source": [
    "# 4 Write python statements to covert the below string to all uppercase and all lowercase.\n",
    "# When executed, this block should produce the output CONVERTCASE  convertcase                                    - 3 points\n",
    "\n",
    "strobj = 'ConvertCase'\n",
    "print(strobj.upper())\n",
    "print(strobj.lower())"
   ]
  },
  {
   "cell_type": "code",
   "execution_count": 14,
   "metadata": {},
   "outputs": [
    {
     "name": "stdout",
     "output_type": "stream",
     "text": [
      "['bus', 'bike', 'bmw', 'toyota']\n"
     ]
    }
   ],
   "source": [
    "# 5 Write a python statement to change item at index 2 to 'bmw'                                                   \n",
    "# When executed, this block should produce the output ['bus', 'bike', 'bmw', 'toyota']                            - 3 points\n",
    "\n",
    "lst = ['bus', 'bike', 'honda', 'toyota']\n",
    "if \"honda\" in lst:\n",
    "    lst[lst.index(\"honda\")] = \"bmw\"\n",
    "print(lst)"
   ]
  },
  {
   "cell_type": "code",
   "execution_count": 16,
   "metadata": {},
   "outputs": [
    {
     "name": "stdout",
     "output_type": "stream",
     "text": [
      "['bus', 'bike', 'bmw', 'toyota']\n"
     ]
    }
   ],
   "source": [
    "# 6 Write a python statement to create a new list lst3 that is a result of joining two lists\n",
    "# When executed, this block should produce the output ['bus', 'bike', 'bmw', 'toyota']                            - 3 points\n",
    "\n",
    "lst1 = ['bus', 'bike']\n",
    "lst2 = ['bmw', 'toyota']\n",
    "lst3 = lst1 + lst2\n",
    "print(lst3)"
   ]
  },
  {
   "cell_type": "code",
   "execution_count": 18,
   "metadata": {},
   "outputs": [
    {
     "name": "stdout",
     "output_type": "stream",
     "text": [
      "True\n"
     ]
    }
   ],
   "source": [
    "# 7 Iterate through the list to check if 'apple' is present in the list\n",
    "# When executed, this block should produce the output True                                                        - 3 points \n",
    "\n",
    "lst = ['banana', 'peach', 'pear', 'apple']\n",
    "for item in lst:\n",
    "    if item == \"apple\":\n",
    "        print(True)"
   ]
  },
  {
   "cell_type": "code",
   "execution_count": 20,
   "metadata": {},
   "outputs": [
    {
     "name": "stdout",
     "output_type": "stream",
     "text": [
      "['banana', 'peach', 'pear', 'apple', 'mango']\n"
     ]
    }
   ],
   "source": [
    "# 8 Iterate through the list to check if 'mango' is present in the list. If not append it to the list.            - 3 points\n",
    "# When executed, this block should produce the output ['banana', 'peach', 'pear', 'apple', 'mango']\n",
    "\n",
    "\n",
    "lst = ['banana', 'peach', 'pear', 'apple']\n",
    "if \"mango\" not in lst:\n",
    "    lst.append(\"mango\")\n",
    "print(lst)"
   ]
  },
  {
   "cell_type": "code",
   "execution_count": 28,
   "metadata": {},
   "outputs": [
    {
     "name": "stdout",
     "output_type": "stream",
     "text": [
      "['banana', 'peach', 'apple', 'mango']\n"
     ]
    }
   ],
   "source": [
    "# 9 Remove the item 'pear' from the below list.\n",
    "# When executed, this block should produce the output ['banana', 'peach', apple', 'mango']                        - 3 points\n",
    "\n",
    "lst = ['banana', 'peach', 'pear', 'apple', 'mango']\n",
    "if \"pear\" in lst:\n",
    "    lst.remove(\"pear\")\n",
    "print(lst)"
   ]
  },
  {
   "cell_type": "code",
   "execution_count": 30,
   "metadata": {},
   "outputs": [
    {
     "name": "stdout",
     "output_type": "stream",
     "text": [
      "[35, 31, 13]\n"
     ]
    }
   ],
   "source": [
    "# 10 Iterate through the list to remove numbers that are divisible by 4 from the list\n",
    "# When executed, this block should produce the output [35, 31, 13]                                                - 3 points\n",
    "\n",
    "lst = [24, 35, 40, 31, 13]\n",
    "for item in lst:\n",
    "    if item % 4 == 0:\n",
    "        lst.remove(item)\n",
    "print(lst)"
   ]
  },
  {
   "cell_type": "code",
   "execution_count": 40,
   "metadata": {},
   "outputs": [
    {
     "name": "stdout",
     "output_type": "stream",
     "text": [
      "['banana', 'peach', 'apple', 'mango']\n"
     ]
    }
   ],
   "source": [
    "# 11 Write a python statement to convert the below tuple to a list\n",
    "# When executed, this block should produce the output ['banana', 'peach', 'apple', 'mango']                       - 3 points\n",
    "\n",
    "tup = ('banana', 'peach', 'apple', 'mango')\n",
    "lst = list(tup)\n",
    "print(lst)"
   ]
  },
  {
   "cell_type": "code",
   "execution_count": 44,
   "metadata": {},
   "outputs": [
    {
     "name": "stdout",
     "output_type": "stream",
     "text": [
      "('banana', 'peach', 'pear', 'apple')\n"
     ]
    }
   ],
   "source": [
    "# 12 Write a python statement to conver the below list to a tuple\n",
    "# When executed, this block should produce the output ('banana', 'peach', 'pear', 'apple')                        - 3 points\n",
    "\n",
    "lst = ['banana', 'peach', 'pear', 'apple']\n",
    "tup = tuple(lst)\n",
    "print(tup)"
   ]
  },
  {
   "cell_type": "code",
   "execution_count": 50,
   "metadata": {},
   "outputs": [
    {
     "name": "stdout",
     "output_type": "stream",
     "text": [
      "('banana', 'grape', 'pear', 'apple')\n"
     ]
    }
   ],
   "source": [
    "# 13 Write python statements to replace peach with grape in the below tuple. \n",
    "# When executed, this block should produce the output ('banana', 'grape', 'pear', 'apple')                        - 3 points\n",
    "# Hint: Tuples are immutable so think of converting the tuple to a different data structure,\n",
    "# make the changes and convert it back to a tuple\n",
    "\n",
    "tup = ('banana', 'peach', 'pear', 'apple')\n",
    "lst = list(tup)\n",
    "for item in lst:\n",
    "    if item == \"peach\":\n",
    "        lst[lst.index(\"peach\")] = \"grape\"\n",
    "tup = tuple(lst)\n",
    "print(tup)"
   ]
  },
  {
   "cell_type": "code",
   "execution_count": 56,
   "metadata": {},
   "outputs": [
    {
     "name": "stdout",
     "output_type": "stream",
     "text": [
      "3\n"
     ]
    }
   ],
   "source": [
    "# 14 Find number of items in the tuple\n",
    "# When executed, this block should produce the output 3                                                            - 3 points\n",
    "\n",
    "tup = (5, 2, 8)\n",
    "print(len(tup))"
   ]
  },
  {
   "cell_type": "code",
   "execution_count": 60,
   "metadata": {},
   "outputs": [
    {
     "name": "stdout",
     "output_type": "stream",
     "text": [
      "[3, 5, 9]\n"
     ]
    }
   ],
   "source": [
    "# 15 Iterate through the tuple and every time you encounter an odd number, append it to a new list and print the list\n",
    "# When executed, this block should produce the output [3, 5, 9]                                                    - 4 points\n",
    "\n",
    "tup = (2, 3, 5, 8, 10, 9, 6)\n",
    "lst = []\n",
    "for item in tup: \n",
    "    if item % 2 == 1:\n",
    "        lst.append(item)\n",
    "print(lst)"
   ]
  },
  {
   "cell_type": "code",
   "execution_count": 62,
   "metadata": {},
   "outputs": [
    {
     "name": "stdout",
     "output_type": "stream",
     "text": [
      "4\n"
     ]
    }
   ],
   "source": [
    "# 16 Write a python statement to find the number of items in the below dictionary\n",
    "# When executed, this block should produce the output 4                                                            - 3 points\n",
    "\n",
    "dict1 = {'car':'honda', 'color':'blue', 'mpg':32, 'type':'sedan'}\n",
    "\n",
    "print(len(dict1))"
   ]
  },
  {
   "cell_type": "code",
   "execution_count": 108,
   "metadata": {},
   "outputs": [
    {
     "name": "stdout",
     "output_type": "stream",
     "text": [
      "car honda\n",
      "color blue\n",
      "mpg 32\n",
      "type sedan\n"
     ]
    }
   ],
   "source": [
    "# 17 Write python statements to iterate through the dictionary to print keys and their corresponding values         - 3 points\n",
    "# Output of this block should be:\n",
    "# car honda\n",
    "# color blue\n",
    "# mpg 32\n",
    "# type sedan\n",
    "\n",
    "dict1 = {'car':'honda', 'color':'blue', 'mpg':32, 'type':'sedan'}\n",
    "for key, value in dict1.items():\n",
    "    print(f\"{key} {value}\")\n"
   ]
  },
  {
   "cell_type": "code",
   "execution_count": 118,
   "metadata": {},
   "outputs": [
    {
     "name": "stdout",
     "output_type": "stream",
     "text": [
      "{'car': 'bmw', 'color': 'blue', 'mpg': 32, 'type': 'sedan'}\n"
     ]
    }
   ],
   "source": [
    "# 18 Write python statements to replace the value of key car from honda to bmw and print the dictionary            - 3 points\n",
    "# Output of this code block should be {'car':'bmw', 'color':'blue', 'mpg':32, 'type':'sedan'}\n",
    "\n",
    "dict1 = {'car':'honda', 'color':'blue', 'mpg':32, 'type':'sedan'}\n",
    "dict1[\"car\"] = \"bmw\"\n",
    "print(dict1)"
   ]
  },
  {
   "cell_type": "code",
   "execution_count": 124,
   "metadata": {},
   "outputs": [
    {
     "name": "stdout",
     "output_type": "stream",
     "text": [
      "{'car': 'honda', 'color': 'blue', 'mpg': 32, 'type': 'sedan', 'price': '20k'}\n"
     ]
    }
   ],
   "source": [
    "# 19 Write a python statement to join two dictionaries\n",
    "# Output of this code block should be {'car':'honda', 'color':'blue', 'mpg':32, 'type':'sedan', 'price':'20k'}    - 3 points\n",
    "\n",
    "dict1 = {'car':'honda', 'color':'blue', 'mpg':32, 'type':'sedan'}\n",
    "dict2 = {'price':'20k'}\n",
    "dict1 = dict1 | dict2\n",
    "print(dict1)"
   ]
  },
  {
   "cell_type": "code",
   "execution_count": 136,
   "metadata": {},
   "outputs": [
    {
     "name": "stdout",
     "output_type": "stream",
     "text": [
      "blue\n"
     ]
    }
   ],
   "source": [
    "# 20 Write a python statement to print value for the key 'color'                                                   - 3 points\n",
    "# Output of this block should be 'blue'\n",
    "\n",
    "dict1 = {'car':'honda', 'color':'blue', 'mpg':32, 'type':'sedan'}\n",
    "print(dict1[\"color\"])"
   ]
  },
  {
   "cell_type": "code",
   "execution_count": 144,
   "metadata": {},
   "outputs": [
    {
     "name": "stdout",
     "output_type": "stream",
     "text": [
      "[[4, 5, 8], [11, 13, 20]]\n"
     ]
    }
   ],
   "source": [
    "# 21 Iterate through the nested list to sort individual lists\n",
    "# Output of this block should be [[4, 5, 8], [11, 13, 20]]                                                         - 5 points\n",
    "\n",
    "lst = [[8, 4, 5], [20, 11, 13]]\n",
    "for sublist in lst:\n",
    "    sublist.sort()\n",
    "print(lst)"
   ]
  },
  {
   "cell_type": "code",
   "execution_count": 156,
   "metadata": {},
   "outputs": [
    {
     "name": "stdout",
     "output_type": "stream",
     "text": [
      "3 5 11 13 "
     ]
    }
   ],
   "source": [
    "# 22 Iterate through the nested list to print all odd numbers\n",
    "# Output of this block should be 3 5 11 13                                                                         - 5 points\n",
    "\n",
    "lst = [[3, 4, 5], [10, 11, 13]]\n",
    "for sublist in lst:\n",
    "    for item in sublist:\n",
    "        if item % 2 == 1:\n",
    "            print(item, end=\" \")"
   ]
  },
  {
   "cell_type": "code",
   "execution_count": 5,
   "metadata": {},
   "outputs": [
    {
     "name": "stdout",
     "output_type": "stream",
     "text": [
      "[23, 13, 65, 21, 10, 6, 45, 67, 98, 321, 6, 61, 16, 70, 559]\n"
     ]
    }
   ],
   "source": [
    "# 23 Given the list below, write code to add all the elements at odd indices and append the total to the end of the list\n",
    "# and print the list \n",
    "# Remember list index starts at 0\n",
    "# Output of this block should be [23, 13, 65, 21, 10, 6, 45, 67, 98, 321, 6, 61, 16, 70, 559]                      - 5 points\n",
    "\n",
    "lst = [23, 13, 65, 21, 10, 6, 45, 67, 98, 321, 6, 61, 16, 70]\n",
    "\n",
    "odd_lst_sum = sum(lst[i] for i in range(1, len(lst), 2))\n",
    "lst.append(odd_lst_sum)\n",
    "print(lst)\n"
   ]
  },
  {
   "cell_type": "code",
   "execution_count": 55,
   "metadata": {},
   "outputs": [
    {
     "name": "stdout",
     "output_type": "stream",
     "text": [
      "[23, 13, 65, 21, 10, 6, 45, 67, 98, 321, 6, 61, 16, 70, 263, 150425549820]\n"
     ]
    }
   ],
   "source": [
    "# 24 Given the list below, write a function to multiply all the elements at odd indices and add all the elements at\n",
    "# even indices. Append the sum and product to the end of the list and return the list \n",
    "# Remember list index starts at 0\n",
    "# Output of this block should be [23, 13, 65, 21, 10, 6, 45, 67, 98, 321, 6, 61, 16, 70, 263, 150425549820]        - 5 points\n",
    "\n",
    "lst = [23, 13, 65, 21, 10, 6, 45, 67, 98, 321, 6, 61, 16, 70]\n",
    "\n",
    "def addlst(lst):\n",
    "    even_lst_sum = sum(lst[i] for i in range(0, len(lst), 2))\n",
    "    lst.append(even_lst_sum)\n",
    "\n",
    "    # 1 because if you init at 0, 0* anything is 0\n",
    "    product_odd_lst = 1\n",
    "    for i in range(1, len(lst), 2):\n",
    "        product_odd_lst *= lst[i]\n",
    "    lst.append(product_odd_lst)\n",
    "    \n",
    "    return lst\n",
    "\n",
    "print(addlst(lst))"
   ]
  },
  {
   "cell_type": "code",
   "execution_count": 83,
   "metadata": {},
   "outputs": [
    {
     "name": "stdout",
     "output_type": "stream",
     "text": [
      "[[9, 4, 16], [121, 81, 400]]\n"
     ]
    }
   ],
   "source": [
    "# 25 Write python code to square each number of the nexted list\n",
    "# Output of this block should be [[9,4,16], [121,81,400]]                                                           - 5 points\n",
    "\n",
    "lst = [[3,2,4], [11,9,20]]\n",
    "\n",
    "lst = [[num ** 2 for num in sublist] for sublist in lst]\n",
    "print(lst)"
   ]
  },
  {
   "cell_type": "code",
   "execution_count": 117,
   "metadata": {},
   "outputs": [
    {
     "name": "stdout",
     "output_type": "stream",
     "text": [
      "apppplle\n",
      "bbeasstt\n",
      "ttrryy\n"
     ]
    }
   ],
   "source": [
    "# 26 Write a python function that accepts a string as a positional argument, and for every NON Vowel character \n",
    "# in the string, duplicate the character. Finally print the new string. \n",
    "\n",
    "# Example 1:\n",
    "# Input: “apple”\n",
    "# Output: “apppplle”\n",
    "\n",
    "# Example 2:\n",
    "# Input: “beast”\n",
    "# Output: “bbeasstt”\n",
    "\n",
    "# Example 3:\n",
    "# Input: “try”\n",
    "# Output: “ttrryy”                                                                                                  - 5 points\n",
    "\n",
    "def duplicate_non_vowels(strobj):\n",
    "    vowels = \"aeiouAEIOU\"\n",
    "    return \"\".join([char * 2 if char not in vowels else char for char in strobj])\n",
    "\n",
    "# Example usage\n",
    "print(duplicate_non_vowels(\"apple\")) \n",
    "print(duplicate_non_vowels(\"beast\"))\n",
    "print(duplicate_non_vowels(\"try\"))"
   ]
  },
  {
   "cell_type": "code",
   "execution_count": 129,
   "metadata": {},
   "outputs": [
    {
     "data": {
      "text/plain": [
       "77.05"
      ]
     },
     "execution_count": 129,
     "metadata": {},
     "output_type": "execute_result"
    }
   ],
   "source": [
    "# 27 Write a python function that accepts the below list as a positional argument. The list contains dictionaries \n",
    "# (transactions) as items. Iterate through this list and for each transaction calculate total cost. Finally sum all costs  \n",
    "# to get the total bill amount. Print this value as output.\n",
    "# Output: 77.05                                                                                                     - 10 points\n",
    "\n",
    "transactions = [{'item':'book', 'qty':2, 'price per item':22.50}, {'item':'pen', 'qty':12, 'price per item':1.50}, \n",
    "                {'item':'pencil', 'qty':15, 'price per item':0.75}, {'item':'glue', 'qty':1, 'price per item':2.80}]\n",
    "\n",
    "def totalvalue(transactions):\n",
    "    total = sum(item['qty'] * item['price per item'] for item in transactions)\n",
    "    return total\n",
    "\n",
    "totalvalue(transactions)"
   ]
  }
 ],
 "metadata": {
  "kernelspec": {
   "display_name": "Python 3 (ipykernel)",
   "language": "python",
   "name": "python3"
  },
  "language_info": {
   "codemirror_mode": {
    "name": "ipython",
    "version": 3
   },
   "file_extension": ".py",
   "mimetype": "text/x-python",
   "name": "python",
   "nbconvert_exporter": "python",
   "pygments_lexer": "ipython3",
   "version": "3.12.4"
  }
 },
 "nbformat": 4,
 "nbformat_minor": 4
}
